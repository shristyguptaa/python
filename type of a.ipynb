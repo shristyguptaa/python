a = 5.02
a = int(a)
type(a)
